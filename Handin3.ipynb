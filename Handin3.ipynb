{
 "cells": [
  {
   "cell_type": "code",
   "execution_count": 16,
   "metadata": {
    "collapsed": false
   },
   "outputs": [],
   "source": [
    "def read_fasta_file(filename):\n",
    "    \"\"\"\n",
    "    Reads the given FASTA file f and returns a dictionary of sequences.\n",
    "\n",
    "    Lines starting with ';' in the FASTA file are ignored.\n",
    "    \"\"\"\n",
    "    sequences_lines = {}\n",
    "    current_sequence_lines = None\n",
    "    with open(filename) as fp:\n",
    "        for line in fp:\n",
    "            line = line.strip()\n",
    "            if line.startswith(';') or not line:\n",
    "                continue\n",
    "            if line.startswith('>'):\n",
    "                sequence_name = line.lstrip('>')\n",
    "                current_sequence_lines = []\n",
    "                sequences_lines[sequence_name] = current_sequence_lines\n",
    "            else:\n",
    "                if current_sequence_lines is not None:\n",
    "                    current_sequence_lines.append(line)\n",
    "    sequences = {}\n",
    "    for name, lines in sequences_lines.items():\n",
    "        sequences[name] = ''.join(lines)\n",
    "    return sequences\n",
    "\n",
    "def create_fasta_dict(n):\n",
    "    d = {'genome' : [], 'annotation' : [], 'genome_name' : []}\n",
    "    for i in n:\n",
    "        d['genome_name'].append('genome' + str(i) + '.fa')\n",
    "        d['genome'].append(read_fasta_file('genome' + str(i) + '.fa')['genome' + str(i)])\n",
    "        if i < 6:\n",
    "            d['annotation'].append(read_fasta_file('annotation'+ str(i) + '.fa')['annotation' + str(i)])\n",
    "        else:\n",
    "            d['annotation'].append(None)\n",
    "    return d"
   ]
  },
  {
   "cell_type": "code",
   "execution_count": 18,
   "metadata": {
    "collapsed": false
   },
   "outputs": [],
   "source": [
    "train_set = create_fasta_dict([1,2,3,4,5])\n",
    "test_set = create_fasta_dict([6,7,8,9,10])\n"
   ]
  },
  {
   "cell_type": "code",
   "execution_count": 32,
   "metadata": {
    "collapsed": true
   },
   "outputs": [],
   "source": [
    "import numpy as np\n",
    "def viterbi(transition, emission, pi, hidden, sequence, observables):\n",
    "    #init viterbi table\n",
    "    viterbi_table = np.zeros((len(hidden), len(sequence)))\n",
    "    viterbi_table = viterbi_table.astype(np.float)\n",
    "    #init result list Z\n",
    "    Z = [0] * len(sequence)\n",
    "    \n",
    "    for i in range(len(hidden)):\n",
    "        viterbi_table[i,0] = np.log(pi[i]) + np.log(emission[i, observables[sequence[0]]])\n",
    "    for n in range(1,len(sequence)):\n",
    "        for k in range(len(hidden)):\n",
    "            viterbi_table[k,n] = float(\"-inf\")\n",
    "            if emission[k, observables[sequence[n]]] != float(0):\n",
    "                for j in range(len(hidden)):\n",
    "                    if transition[j,k] != float(0):\n",
    "                        viterbi_table[k,n] = max(viterbi_table[k,n], np.log(emission[k, observables[sequence[n]]]) + viterbi_table[j, n - 1] + np.log(transition[j,k]))\n",
    "    Z[-1] = np.argmax(viterbi_table[:,-1])\n",
    "    for n in reversed(range(len(sequence)-1)):\n",
    "        state = float(\"-inf\")\n",
    "        for k in range(len(hidden)):\n",
    "            z = np.log(emission[Z[n+1], observables[sequence[n+1]]]) + viterbi_table[k,n] + np.log(transition[k, Z[n+1]])\n",
    "            if z > state:\n",
    "                state = z\n",
    "                index = k\n",
    "        Z[n] = index\n",
    "    return Z\n",
    "\n",
    "def train_by_counting_2_state(dictionary):\n",
    "\tobservables = ['A', 'G', 'C', 'T']\n",
    "\temissions  = dict(zip(observables,range(len(observables))))\n",
    "\tseqnames = dictionary['genome_name']\n",
    "\tseqs = dictionary['genome']\n",
    "\thiddenseqs = dictionary['annotation']\n",
    "\thiddenstates = {'N':0, 'C':1, 'R':1}\n",
    "\n",
    "\temissionMatrix = np.zeros((2, len(observables)))\n",
    "\tfor i in range(len(seqs)):\n",
    "\t\tfor j, char in enumerate(seqs[i]):\n",
    "\t\t\temissionMatrix[hiddenstates[hiddenseqs[i][j]], emissions[char]] += 1\n",
    "\tfor i in range(2):\n",
    "\t\trowsum = emissionMatrix[i,:].sum()\n",
    "\t\tfor j in range(len(observables)):\n",
    "\t\t\temissionMatrix[i,j] = emissionMatrix[i,j] / rowsum\n",
    "\n",
    "\ttransitionMatrix = np.zeros((2,2))\n",
    "\tpi = [0.0] * 2\n",
    "\n",
    "\tfor i in range(len(hiddenseqs)):\n",
    "\t\tfor j, state in enumerate(hiddenseqs[i]):\n",
    "\t\t\tif j < 1:\n",
    "\t\t\t\tpi[hiddenstates[state]] += 1\n",
    "\t\t\telse:\n",
    "\t\t\t\ttransitionMatrix[hiddenstates[hiddenseqs[i][j-1]], hiddenstates[state]] += 1\n",
    "\tpisum = sum(pi)\n",
    "\tfor i in range(2):\n",
    "\t\trowsum = transitionMatrix[i,:].sum()\n",
    "\n",
    "\t\tpi[i] = pi[i] / pisum\n",
    "\n",
    "\t\tfor j in range(2):\n",
    "\t\t\ttransitionMatrix[i,j] = transitionMatrix[i,j] / rowsum\n",
    "\treturn pi, transitionMatrix, emissionMatrix, hiddenstates\n"
   ]
  },
  {
   "cell_type": "code",
   "execution_count": 1,
   "metadata": {
    "collapsed": false
   },
   "outputs": [],
   "source": []
  },
  {
   "cell_type": "code",
   "execution_count": 40,
   "metadata": {
    "collapsed": false
   },
   "outputs": [],
   "source": [
    "trained_model = train_by_counting_2_state(dictionary = train_set)\n",
    "pi = trained_model[0]\n",
    "transition = trained_model[1]\n",
    "emission = trained_model[2]\n",
    "hiddenstates = {'N' : 0, 'C' : 1}\n",
    "observables = {'A':0, 'G':1, 'C':2, 'T':3}"
   ]
  },
  {
   "cell_type": "code",
   "execution_count": 36,
   "metadata": {
    "collapsed": false
   },
   "outputs": [
    {
     "name": "stdout",
     "output_type": "stream",
     "text": [
      "[[ 0.33434315  0.16612728  0.16479453  0.33473505]\n",
      " [ 0.32083579  0.17959771  0.17934359  0.32022291]]\n"
     ]
    }
   ],
   "source": [
    "def tenfold_cross_validation(datafolder, states = 3, decoding = \"viterbi\"):\n",
    "\tobservables = ['A', 'C', 'E', 'D', 'G', 'F', 'I', 'H', 'K', 'M', 'L', 'N', 'Q', 'P', 'S', 'R', 'T', 'W', 'V', 'Y']\n",
    "\temissions  = dict(zip(observables,range(len(observables))))\n",
    "\tresults = []\n",
    "\tnames = []\n",
    "\tsequences = []\n",
    "\tfiles = []\n",
    "\ttransitionMatrix = []\n",
    "\tpi = []\n",
    "\tfilelist = os.listdir(datafolder)\n",
    "\tfor i in range(len(filelist)):\n",
    "\t\ttrainingdata = filelist[:]\n",
    "\t\tvalidationdata = trainingdata.pop(i)\n",
    "\n",
    "\t\ttrainingset = [[], [], []]\n",
    "\t\tfor filename in trainingdata:\n",
    "\t\t\tdata = read_sequence(datafolder + \"/\" + filename)\n",
    "\t\t\ttrainingset[0] = trainingset[0] + data[0]\n",
    "\t\t\ttrainingset[1] = trainingset[1] + data[1]\n",
    "\t\t\ttrainingset[2] = trainingset[2] + data[2]\n",
    "\t\tif states == 3:\n",
    "\t\t\tmodel = train_by_counting_3_state(trainingset)\n",
    "\t\tif states == 4:\n",
    "\t\t\tmodel = train_by_counting_4_state(trainingset)\n",
    "\t\tif states == 24:\n",
    "\t\t\tmodel = train_by_counting_24_states(trainingset)\n",
    "\t\thidden = model[3]\n",
    "\t\ttransitionMatrix.append(model[1])\n",
    "\t\tpi.append(model[0])\n",
    "\t\tnewhidden = {v: k for k, v in hidden.iteritems()}\n",
    "\t\tvalidationset = read_sequence(datafolder + \"/\" + validationdata)\n",
    "\t\tpredictions = []\n",
    "\t\tnames.append(validationset[0])\n",
    "\t\tfor valseq in validationset[1]:\n",
    "\t\t\tif decoding == 'viterbi':\n",
    "\t\t\t\tpredictions.append(viterbi.viterbi(transition = model[1], emission = model[2], pi = model[0], hidden = hidden, sequence = valseq, observables = emissions))\n",
    "\t\t\tif decoding == 'posterior':\n",
    "\t\t\t\tpredictions.append(posterior.posterior(transition = model[1], emission = model[2], pi = model[0], hidden = hidden, sequence = valseq, observables = emissions))\n",
    "\t\tfor r in range(len(predictions)):\n",
    "\t\t\tpredictions[r] = [newhidden[x] for x in predictions[r]]\n",
    "\t\t\tif states == 4:\n",
    "\t\t\t\tfor x in range(len(predictions[r])):\n",
    "\t\t\t\t\tif predictions[r][x] == 'N':\n",
    "\t\t\t\t\t\tpredictions[r][x] = 'M'\n",
    "\t\t\tif states == 24:\n",
    "\t\t\t\tfor x in range(len(predictions[r])):\n",
    "\t\t\t\t\tif predictions[r][x] != 'i':\n",
    "\t\t\t\t\t\tif predictions[r][x] != 'o':\n",
    "\t\t\t\t\t\t\tpredictions[r][x] = 'M'\n",
    "\t\t\tpredictions[r] = \"\".join(predictions[r])\n",
    "\t\tresults.append(predictions)\n",
    "\t\tsequences.append(validationset[1])\n",
    "\t\tfiles.append(validationdata)\n",
    "\treturn files, names, results, sequences, transitionMatrix, pi\n"
   ]
  },
  {
   "cell_type": "code",
   "execution_count": 43,
   "metadata": {
    "collapsed": false
   },
   "outputs": [
    {
     "name": "stderr",
     "output_type": "stream",
     "text": [
      "/home/kristian/anaconda2/envs/python3/lib/python3.5/site-packages/ipykernel/__main__.py:10: RuntimeWarning: divide by zero encountered in log\n"
     ]
    }
   ],
   "source": [
    "test_model = viterbi(transition, emission, pi, hiddenstates, test_set['genome'][0], observables = observables)\n",
    "for i in range(len(test_model)):\n",
    "    if test_model[i] == 0:\n",
    "        test_model[i] = 'N'\n",
    "    else:\n",
    "        test_model[i] = 'C'\n",
    "\n"
   ]
  }
 ],
 "metadata": {
  "anaconda-cloud": {},
  "kernelspec": {
   "display_name": "Python [Root]",
   "language": "python",
   "name": "Python [Root]"
  },
  "language_info": {
   "codemirror_mode": {
    "name": "ipython",
    "version": 3
   },
   "file_extension": ".py",
   "mimetype": "text/x-python",
   "name": "python",
   "nbconvert_exporter": "python",
   "pygments_lexer": "ipython3",
   "version": "3.5.2"
  }
 },
 "nbformat": 4,
 "nbformat_minor": 0
}
